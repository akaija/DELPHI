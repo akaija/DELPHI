{
 "cells": [
  {
   "cell_type": "code",
   "execution_count": 1,
   "metadata": {
    "collapsed": false
   },
   "outputs": [
    {
     "data": {
      "text/html": [
       "<script>\n",
       "code_show=true; \n",
       "function code_toggle() {\n",
       " if (code_show){\n",
       " $('div.input').hide();\n",
       " } else {\n",
       " $('div.input').show();\n",
       " }\n",
       " code_show = !code_show\n",
       "} \n",
       "$( document ).ready(code_toggle);\n",
       "</script>\n",
       "<form action=\"javascript:code_toggle()\"><input type=\"submit\" value=\"Click here to toggle on/off the raw code.\"></form>"
      ],
      "text/plain": [
       "<IPython.core.display.HTML object>"
      ]
     },
     "execution_count": 1,
     "metadata": {},
     "output_type": "execute_result"
    }
   ],
   "source": [
    "from IPython.display import HTML\n",
    "\n",
    "HTML('''<script>\n",
    "code_show=true; \n",
    "function code_toggle() {\n",
    " if (code_show){\n",
    " $('div.input').hide();\n",
    " } else {\n",
    " $('div.input').show();\n",
    " }\n",
    " code_show = !code_show\n",
    "} \n",
    "$( document ).ready(code_toggle);\n",
    "</script>\n",
    "<form action=\"javascript:code_toggle()\"><input type=\"submit\" value=\"Click here to toggle on/off the raw code.\"></form>''')"
   ]
  },
  {
   "cell_type": "markdown",
   "metadata": {},
   "source": [
    "# DELPHI threat detection console"
   ]
  },
  {
   "cell_type": "markdown",
   "metadata": {},
   "source": [
    "## Enter search criteria"
   ]
  },
  {
   "cell_type": "markdown",
   "metadata": {},
   "source": [
    "### Select resources"
   ]
  },
  {
   "cell_type": "code",
   "execution_count": 2,
   "metadata": {
    "collapsed": false
   },
   "outputs": [],
   "source": [
    "from ipywidgets import Button, HBox, Layout, SelectMultiple\n",
    "from ipywidgets import Text, ToggleButton, VBox\n",
    "\n",
    "options = [\n",
    "    'ATF Bomb Data Center',\n",
    "    'Web of Science database',\n",
    "    'US Patent Office database',\n",
    "    'Bloomberg database',\n",
    "    'PubMed database',\n",
    "    'CDC EHR database',\n",
    "    'NATO Bomb Data Center'\n",
    "]\n",
    "\n",
    "items = [\n",
    "    SelectMultiple(options=options),\n",
    "    Button(description='Load database(s)')\n",
    "]\n",
    "\n",
    "HBox(items)"
   ]
  },
  {
   "cell_type": "markdown",
   "metadata": {},
   "source": [
    "### Select lexicon"
   ]
  },
  {
   "cell_type": "code",
   "execution_count": 3,
   "metadata": {
    "collapsed": false
   },
   "outputs": [],
   "source": [
    "items = [\n",
    "    Text(description='PATH TO LEXICON'),\n",
    "    Button(description='Load lexicon')\n",
    "]\n",
    "HBox(items)"
   ]
  },
  {
   "cell_type": "markdown",
   "metadata": {},
   "source": [
    "### Start search"
   ]
  },
  {
   "cell_type": "code",
   "execution_count": 4,
   "metadata": {
    "collapsed": false
   },
   "outputs": [],
   "source": [
    "from IPython.display import display\n",
    "\n",
    "start_search = Button(description='START SEARCH')\n",
    "display(start_search)\n",
    "\n",
    "def on_button_clicked(b):\n",
    "\n",
    "    \n",
    "    references = [\n",
    "        '(1) Furby, cell phone',\n",
    "        '(2) handgun, prosthetic arm, drone',\n",
    "        '(2) Furby',\n",
    "        '(3) knife, prosthetic arm, drone',\n",
    "        '(4) cellphone, orange juice, styrafoam',\n",
    "        '(5) fertilizer, diesel fuel, cotton',\n",
    "        '(6) jar, ammonia, bleach'\n",
    "    ]\n",
    "\n",
    "    bottom = [\n",
    "        SelectMultiple(options=references),\n",
    "        Button(description='Select threats')\n",
    "    ]\n",
    "\n",
    "    display(HBox(bottom))\n",
    "    \n",
    "    \n",
    "start_search.on_click(on_button_clicked)"
   ]
  },
  {
   "cell_type": "markdown",
   "metadata": {},
   "source": [
    "## Search results"
   ]
  },
  {
   "cell_type": "code",
   "execution_count": 5,
   "metadata": {
    "collapsed": false
   },
   "outputs": [],
   "source": [
    "display_hits = Button(description='DISPLAY HITS')\n",
    "display(display_hits)\n",
    "\n",
    "def on_button_clicked(b):\n",
    "    references = [\n",
    "        'J. of Furby Phobia - Psychological impacts of furry weapons',\n",
    "        'Amer. J. of Toy Weaponisation - Rise of furry detenators',\n",
    "        'US Patent Furby-switch #666-d00m-d3s7r0y-k1ll',\n",
    "        'Hasbro 2016 Q4 Earnings Report',\n",
    "        'Al Jezeera - Furbies involved in latest ISIS attack',\n",
    "        'USA Today - Yet another Furby massacre',\n",
    "        'NATO - 2016 Furby-related death count'\n",
    "    ]\n",
    "\n",
    "    bottom = [\n",
    "        SelectMultiple(options=references),\n",
    "        Button(description='Export references')\n",
    "    ]\n",
    "\n",
    "    display(HBox(bottom))\n",
    "    \n",
    "    \n",
    "display_hits.on_click(on_button_clicked)"
   ]
  },
  {
   "cell_type": "code",
   "execution_count": 6,
   "metadata": {
    "collapsed": true
   },
   "outputs": [],
   "source": [
    "start_search = Button(\n",
    "    description='OPEN VISUALISATION SUITE',\n",
    "    layout=Layout(width='100%')\n",
    ")\n",
    "display(start_search)"
   ]
  }
 ],
 "metadata": {
  "kernelspec": {
   "display_name": "Python 3",
   "language": "python",
   "name": "python3"
  },
  "language_info": {
   "codemirror_mode": {
    "name": "ipython",
    "version": 3
   },
   "file_extension": ".py",
   "mimetype": "text/x-python",
   "name": "python",
   "nbconvert_exporter": "python",
   "pygments_lexer": "ipython3",
   "version": "3.5.2"
  },
  "widgets": {
   "state": {
    "0857d7a1a69b4a0395f97cabc8c05e69": {
     "views": [
      {
       "cell_index": 8
      }
     ]
    },
    "15c4d7d8e49f42f881682dd8fd62af5b": {
     "views": [
      {
       "cell_index": 8
      }
     ]
    },
    "1651c0e529154e34a2e724c4230fa522": {
     "views": [
      {
       "cell_index": 5
      }
     ]
    },
    "2447dc70cb0240eaa85e1430ab69315a": {
     "views": [
      {
       "cell_index": 6
      }
     ]
    },
    "481f026446c74d8989695c1d97ce9125": {
     "views": [
      {
       "cell_index": 3
      }
     ]
    },
    "5fae315f990144298851b8b30d17257a": {
     "views": [
      {
       "cell_index": 8
      }
     ]
    },
    "7c26e3b9c21146b893753bdd225103f0": {
     "views": [
      {
       "cell_index": 8
      }
     ]
    },
    "96a902cbf82b419b8bd562fa1fb1e279": {
     "views": [
      {
       "cell_index": 10
      }
     ]
    },
    "a11e0c809f6c4cae8e40d25679c0926a": {
     "views": [
      {
       "cell_index": 11
      }
     ]
    },
    "b4eb78959a4c46e3966d04fd3e6932b0": {
     "views": [
      {
       "cell_index": 8
      }
     ]
    },
    "b5f1338b73e04d6c9a5db47195ede52e": {
     "views": [
      {
       "cell_index": 10
      }
     ]
    },
    "c10a45d832ed4e0e848ed5457282cc78": {
     "views": [
      {
       "cell_index": 10
      }
     ]
    },
    "c5318fc7c4a141b5a2cb52491f2815c8": {
     "views": [
      {
       "cell_index": 8
      }
     ]
    },
    "df392696d6a141f3a444a91bc17f4ab5": {
     "views": [
      {
       "cell_index": 4
      }
     ]
    },
    "e8746f584e3f4e09b6dab923e521f5c2": {
     "views": [
      {
       "cell_index": 8
      }
     ]
    },
    "fd92049a45cf436ca8b3ef24f31812b1": {
     "views": [
      {
       "cell_index": 10
      }
     ]
    }
   },
   "version": "1.2.0"
  }
 },
 "nbformat": 4,
 "nbformat_minor": 1
}
